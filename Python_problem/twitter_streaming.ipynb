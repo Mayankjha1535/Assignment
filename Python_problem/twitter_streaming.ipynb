{
 "cells": [
  {
   "cell_type": "code",
   "execution_count": 2,
   "metadata": {},
   "outputs": [
    {
     "name": "stdout",
     "output_type": "stream",
     "text": [
      "done\n"
     ]
    }
   ],
   "source": [
    "#Import the necessary methods from tweepy library\n",
    "from tweepy.streaming import StreamListener\n",
    "from tweepy import OAuthHandler\n",
    "from tweepy import Stream\n",
    "import tweepy\n",
    "import json\n",
    "#Variables that contains the user credentials to access Twitter API \n",
    "access_key = \"798201647570616321-nlqKdY9bqYrRa0hiJU2JlpiJ0BcZimu\"\n",
    "access_secret = \"9S6LuxGDZXbh9j0gckWesD4FId5G4K2eQuwZLAUpSq8YY\"\n",
    "consumer_key = \"DYyXn73UqkfLOOvtSjMvFaXul\"\n",
    "consumer_secret = \"jDyqEtCiM7BQ6AhtIvHTe0sIiImdzEuYkwCVYeanJfRbEoze1p\"\n",
    "\n",
    "\n",
    "def get_tweets(username): \n",
    "          \n",
    "        auth = tweepy.OAuthHandler(consumer_key, consumer_secret) \n",
    "  \n",
    "        # Access to user's access key and access secret \n",
    "        auth.set_access_token(access_key, access_secret) \n",
    "  \n",
    "        # Calling api \n",
    "        api = tweepy.API(auth) \n",
    "  \n",
    "        # 200 tweets to be extracted\n",
    "        tweets = api.user_timeline(screen_name=username, count=200) \n",
    "  \n",
    "  \n",
    "        # dump the tweets data in json file\n",
    "        jsonfile = open('file.json', 'w')\n",
    "        for tweet in tweets:\n",
    "            json.dump(tweet.text, jsonfile)\n",
    "            jsonfile.write('\\n')  \n",
    "   \n",
    "        print('done') \n",
    "  \n",
    "  \n",
    "# Driver code \n",
    "if __name__ == '__main__': \n",
    "  \n",
    "    # Here goes the twitter handle for the user \n",
    "    # whose tweets are to be extracted. \n",
    "    get_tweets(\"@midasIIITD\")   "
   ]
  },
  {
   "cell_type": "code",
   "execution_count": null,
   "metadata": {},
   "outputs": [],
   "source": []
  }
 ],
 "metadata": {
  "kernelspec": {
   "display_name": "Python 3",
   "language": "python",
   "name": "python3"
  },
  "language_info": {
   "codemirror_mode": {
    "name": "ipython",
    "version": 3
   },
   "file_extension": ".py",
   "mimetype": "text/x-python",
   "name": "python",
   "nbconvert_exporter": "python",
   "pygments_lexer": "ipython3",
   "version": "3.6.7"
  }
 },
 "nbformat": 4,
 "nbformat_minor": 2
}
