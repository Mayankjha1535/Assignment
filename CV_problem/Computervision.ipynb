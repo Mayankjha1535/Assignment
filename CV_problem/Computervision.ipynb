{
 "cells": [
  {
   "cell_type": "code",
   "execution_count": 1,
   "metadata": {},
   "outputs": [],
   "source": [
    "import pickle\n",
    "with open('train_image.pkl','rb') as x:\n",
    "    df=pickle.load(x)\n",
    "\n",
    "with open('train_label.pkl','rb') as x:\n",
    "    label=pickle.load(x)"
   ]
  },
  {
   "cell_type": "code",
   "execution_count": 2,
   "metadata": {},
   "outputs": [],
   "source": [
    "import pandas as pd\n",
    "import numpy as np\n",
    "import matplotlib.pyplot as plt\n",
    "import seaborn as sns\n",
    "%matplotlib inline"
   ]
  },
  {
   "cell_type": "code",
   "execution_count": 12,
   "metadata": {},
   "outputs": [],
   "source": [
    "train_features=np.asarray(df)\n",
    "labels=np.asarray(label)"
   ]
  },
  {
   "cell_type": "code",
   "execution_count": 14,
   "metadata": {},
   "outputs": [],
   "source": [
    "from sklearn.model_selection import train_test_split\n",
    "X_train, X_test, y_train, y_test = train_test_split(train_features, labels, test_size=0.2, random_state=101)"
   ]
  },
  {
   "cell_type": "code",
   "execution_count": 16,
   "metadata": {},
   "outputs": [],
   "source": [
    "min_input=0\n",
    "max_input=255\n",
    "X_train=X_train/255\n",
    "X_test=X_test/255"
   ]
  },
  {
   "cell_type": "code",
   "execution_count": 17,
   "metadata": {},
   "outputs": [],
   "source": [
    "X_train=X_train.reshape([-1,28,28,1])"
   ]
  },
  {
   "cell_type": "code",
   "execution_count": 18,
   "metadata": {},
   "outputs": [],
   "source": [
    "X_test=X_test.reshape([-1,28,28,1])"
   ]
  },
  {
   "cell_type": "code",
   "execution_count": 19,
   "metadata": {},
   "outputs": [
    {
     "data": {
      "text/plain": [
       "(6400, 28, 28, 1)"
      ]
     },
     "execution_count": 19,
     "metadata": {},
     "output_type": "execute_result"
    }
   ],
   "source": [
    "X_train.shape"
   ]
  },
  {
   "cell_type": "code",
   "execution_count": 42,
   "metadata": {},
   "outputs": [],
   "source": [
    "from keras.models import Sequential\n",
    "from keras.layers import Conv2D,Dense,Flatten,Dropout,BatchNormalization,MaxPooling2D\n",
    "from keras.optimizers import SGD,Adam,RMSprop\n",
    "from keras.preprocessing.image import ImageDataGenerator\n",
    "from keras.callbacks import ReduceLROnPlateau"
   ]
  },
  {
   "cell_type": "code",
   "execution_count": 80,
   "metadata": {},
   "outputs": [],
   "source": [
    "model=Sequential()\n",
    "model.add(Conv2D(32,(5,5),input_shape=(28,28,1),activation='relu'))\n",
    "model.add(Conv2D(32,(3,3),input_shape=(28,28,1),activation='relu'))\n",
    "model.add(MaxPooling2D(pool_size=(2,2)))\n",
    "model.add(Dropout(0.2))\n",
    "model.add(Conv2D(64,(5,5),activation='relu'))\n",
    "model.add(Conv2D(64,(3,3),activation='relu'))\n",
    "model.add(MaxPooling2D(pool_size=(2,2),strides=(2,2)))\n",
    "model.add(Dropout(0.2))\n",
    "model.add(Flatten())\n",
    "model.add(Dense(units=1024,activation='relu'))\n",
    "model.add(Dropout(0.5))\n",
    "model.add(Dense(units=1024,activation='relu'))\n",
    "model.add(Dropout(0.5))\n",
    "model.add(Dense(units=10,activation='softmax'))"
   ]
  },
  {
   "cell_type": "code",
   "execution_count": 81,
   "metadata": {},
   "outputs": [],
   "source": [
    "model.compile(optimizer='Adam',loss='sparse_categorical_crossentropy',metrics=['accuracy'])"
   ]
  },
  {
   "cell_type": "code",
   "execution_count": 82,
   "metadata": {},
   "outputs": [
    {
     "name": "stdout",
     "output_type": "stream",
     "text": [
      "_________________________________________________________________\n",
      "Layer (type)                 Output Shape              Param #   \n",
      "=================================================================\n",
      "conv2d_15 (Conv2D)           (None, 24, 24, 32)        832       \n",
      "_________________________________________________________________\n",
      "conv2d_16 (Conv2D)           (None, 22, 22, 32)        9248      \n",
      "_________________________________________________________________\n",
      "max_pooling2d_9 (MaxPooling2 (None, 11, 11, 32)        0         \n",
      "_________________________________________________________________\n",
      "dropout_13 (Dropout)         (None, 11, 11, 32)        0         \n",
      "_________________________________________________________________\n",
      "conv2d_17 (Conv2D)           (None, 7, 7, 64)          51264     \n",
      "_________________________________________________________________\n",
      "conv2d_18 (Conv2D)           (None, 5, 5, 64)          36928     \n",
      "_________________________________________________________________\n",
      "max_pooling2d_10 (MaxPooling (None, 2, 2, 64)          0         \n",
      "_________________________________________________________________\n",
      "dropout_14 (Dropout)         (None, 2, 2, 64)          0         \n",
      "_________________________________________________________________\n",
      "flatten_5 (Flatten)          (None, 256)               0         \n",
      "_________________________________________________________________\n",
      "dense_12 (Dense)             (None, 1024)              263168    \n",
      "_________________________________________________________________\n",
      "dropout_15 (Dropout)         (None, 1024)              0         \n",
      "_________________________________________________________________\n",
      "dense_13 (Dense)             (None, 1024)              1049600   \n",
      "_________________________________________________________________\n",
      "dropout_16 (Dropout)         (None, 1024)              0         \n",
      "_________________________________________________________________\n",
      "dense_14 (Dense)             (None, 10)                10250     \n",
      "=================================================================\n",
      "Total params: 1,421,290\n",
      "Trainable params: 1,421,290\n",
      "Non-trainable params: 0\n",
      "_________________________________________________________________\n"
     ]
    }
   ],
   "source": [
    "model.summary()"
   ]
  },
  {
   "cell_type": "code",
   "execution_count": 83,
   "metadata": {},
   "outputs": [],
   "source": [
    "call=ReduceLROnPlateau(monitor='val_acc',patience=2,verbose=1,factor=0.5,min_lr=0.0001)"
   ]
  },
  {
   "cell_type": "code",
   "execution_count": 84,
   "metadata": {},
   "outputs": [],
   "source": [
    "image_aug = ImageDataGenerator(\n",
    "    featurewise_center=False,\n",
    "    samplewise_center=False,\n",
    "    featurewise_std_normalization=False,\n",
    "    samplewise_std_normalization=False,\n",
    "    zca_whitening=False,\n",
    "    rotation_range=10,\n",
    "    zoom_range=0.1,\n",
    "    width_shift_range=0.1,\n",
    "    height_shift_range=0.1,\n",
    "    horizontal_flip=False,\n",
    "    vertical_flip=False)\n"
   ]
  },
  {
   "cell_type": "code",
   "execution_count": 85,
   "metadata": {},
   "outputs": [],
   "source": [
    "train = image_aug.flow(X_train, y_train, batch_size=100)\n",
    "val = image_aug.flow(X_test, y_test, batch_size=100)"
   ]
  },
  {
   "cell_type": "code",
   "execution_count": 86,
   "metadata": {},
   "outputs": [
    {
     "data": {
      "text/plain": [
       "16"
      ]
     },
     "execution_count": 86,
     "metadata": {},
     "output_type": "execute_result"
    }
   ],
   "source": [
    "len(val)"
   ]
  },
  {
   "cell_type": "code",
   "execution_count": 87,
   "metadata": {},
   "outputs": [
    {
     "name": "stdout",
     "output_type": "stream",
     "text": [
      "Epoch 1/30\n",
      " - 38s - loss: 1.1042 - acc: 0.4988 - val_loss: 0.8140 - val_acc: 0.6450\n",
      "Epoch 2/30\n",
      " - 33s - loss: 0.7659 - acc: 0.6608 - val_loss: 0.6890 - val_acc: 0.6806\n",
      "Epoch 3/30\n",
      " - 33s - loss: 0.7000 - acc: 0.6881 - val_loss: 0.6403 - val_acc: 0.7200\n",
      "Epoch 4/30\n",
      " - 34s - loss: 0.6618 - acc: 0.7129 - val_loss: 0.6180 - val_acc: 0.7337\n",
      "Epoch 5/30\n",
      " - 33s - loss: 0.6212 - acc: 0.7286 - val_loss: 0.5964 - val_acc: 0.7587\n",
      "Epoch 6/30\n",
      " - 34s - loss: 0.6045 - acc: 0.7489 - val_loss: 0.5821 - val_acc: 0.7769\n",
      "Epoch 7/30\n",
      " - 34s - loss: 0.5858 - acc: 0.7593 - val_loss: 0.5479 - val_acc: 0.7837\n",
      "Epoch 8/30\n",
      " - 33s - loss: 0.5530 - acc: 0.7752 - val_loss: 0.5213 - val_acc: 0.8000\n",
      "Epoch 9/30\n",
      " - 33s - loss: 0.5268 - acc: 0.7878 - val_loss: 0.5503 - val_acc: 0.7894\n",
      "Epoch 10/30\n",
      " - 34s - loss: 0.5118 - acc: 0.7944 - val_loss: 0.5089 - val_acc: 0.8125\n",
      "Epoch 11/30\n",
      " - 33s - loss: 0.4889 - acc: 0.8033 - val_loss: 0.5019 - val_acc: 0.7963\n",
      "Epoch 12/30\n",
      " - 33s - loss: 0.4928 - acc: 0.8036 - val_loss: 0.5392 - val_acc: 0.7975\n",
      "\n",
      "Epoch 00012: ReduceLROnPlateau reducing learning rate to 0.0005000000237487257.\n",
      "Epoch 13/30\n",
      " - 33s - loss: 0.4503 - acc: 0.8178 - val_loss: 0.4592 - val_acc: 0.8238\n",
      "Epoch 14/30\n",
      " - 33s - loss: 0.4359 - acc: 0.8282 - val_loss: 0.4605 - val_acc: 0.8163\n",
      "Epoch 15/30\n",
      " - 33s - loss: 0.4408 - acc: 0.8275 - val_loss: 0.4760 - val_acc: 0.8225\n",
      "\n",
      "Epoch 00015: ReduceLROnPlateau reducing learning rate to 0.0002500000118743628.\n",
      "Epoch 16/30\n",
      " - 33s - loss: 0.4176 - acc: 0.8320 - val_loss: 0.4354 - val_acc: 0.8362\n",
      "Epoch 17/30\n",
      " - 33s - loss: 0.4144 - acc: 0.8345 - val_loss: 0.4462 - val_acc: 0.8269\n",
      "Epoch 18/30\n",
      " - 33s - loss: 0.4075 - acc: 0.8402 - val_loss: 0.4494 - val_acc: 0.8337\n",
      "\n",
      "Epoch 00018: ReduceLROnPlateau reducing learning rate to 0.0001250000059371814.\n",
      "Epoch 19/30\n",
      " - 33s - loss: 0.3825 - acc: 0.8498 - val_loss: 0.4338 - val_acc: 0.8356\n",
      "Epoch 20/30\n",
      " - 33s - loss: 0.3864 - acc: 0.8478 - val_loss: 0.4139 - val_acc: 0.8412\n",
      "Epoch 21/30\n",
      " - 33s - loss: 0.3934 - acc: 0.8464 - val_loss: 0.4324 - val_acc: 0.8394\n",
      "Epoch 22/30\n",
      " - 33s - loss: 0.3908 - acc: 0.8482 - val_loss: 0.4370 - val_acc: 0.8394\n",
      "\n",
      "Epoch 00022: ReduceLROnPlateau reducing learning rate to 0.0001.\n",
      "Epoch 23/30\n",
      " - 33s - loss: 0.3771 - acc: 0.8555 - val_loss: 0.4100 - val_acc: 0.8469\n",
      "Epoch 24/30\n",
      " - 33s - loss: 0.3793 - acc: 0.8484 - val_loss: 0.4371 - val_acc: 0.8344\n",
      "Epoch 25/30\n",
      " - 33s - loss: 0.3811 - acc: 0.8481 - val_loss: 0.4253 - val_acc: 0.8350\n",
      "Epoch 26/30\n",
      " - 33s - loss: 0.3732 - acc: 0.8550 - val_loss: 0.4236 - val_acc: 0.8306\n",
      "Epoch 27/30\n",
      " - 33s - loss: 0.3783 - acc: 0.8499 - val_loss: 0.3966 - val_acc: 0.8438\n",
      "Epoch 28/30\n",
      " - 33s - loss: 0.3650 - acc: 0.8562 - val_loss: 0.4164 - val_acc: 0.8344\n",
      "Epoch 29/30\n",
      " - 33s - loss: 0.3675 - acc: 0.8550 - val_loss: 0.4275 - val_acc: 0.8300\n",
      "Epoch 30/30\n",
      " - 33s - loss: 0.3739 - acc: 0.8526 - val_loss: 0.4138 - val_acc: 0.8388\n"
     ]
    },
    {
     "data": {
      "text/plain": [
       "<keras.callbacks.History at 0x280428b3710>"
      ]
     },
     "execution_count": 87,
     "metadata": {},
     "output_type": "execute_result"
    }
   ],
   "source": [
    "model.fit_generator(train,epochs=30,steps_per_epoch=100,verbose=2,validation_data=val,validation_steps=len(val), callbacks=[call])"
   ]
  },
  {
   "cell_type": "code",
   "execution_count": 132,
   "metadata": {},
   "outputs": [
    {
     "name": "stdout",
     "output_type": "stream",
     "text": [
      "Test loss: 0.374724443256855\n",
      "Test accuracy: 0.8575\n"
     ]
    }
   ],
   "source": [
    "score = model.evaluate(X_test, y_test, verbose=0)\n",
    "print('Test loss:', score[0])\n",
    "print('Test accuracy:', score[1])"
   ]
  },
  {
   "cell_type": "code",
   "execution_count": 102,
   "metadata": {},
   "outputs": [],
   "source": [
    "with open('test_image.pkl','rb') as x:\n",
    "    test=pickle.load(x)"
   ]
  },
  {
   "cell_type": "code",
   "execution_count": 107,
   "metadata": {},
   "outputs": [],
   "source": [
    "test_features=np.asarray(test)"
   ]
  },
  {
   "cell_type": "code",
   "execution_count": 108,
   "metadata": {},
   "outputs": [
    {
     "data": {
      "text/plain": [
       "(2000, 784)"
      ]
     },
     "execution_count": 108,
     "metadata": {},
     "output_type": "execute_result"
    }
   ],
   "source": [
    "test_features.shape"
   ]
  },
  {
   "cell_type": "code",
   "execution_count": 109,
   "metadata": {},
   "outputs": [],
   "source": [
    "test_f=test_features.reshape([-1,28,28,1])"
   ]
  },
  {
   "cell_type": "code",
   "execution_count": 118,
   "metadata": {},
   "outputs": [],
   "source": [
    "result = model.predict(test_f)\n",
    "\n",
    "result = np.argmax(result, axis = 1)\n",
    "result = pd.Series(result,name=\"predicted class\")\n",
    "\n",
    "result = pd.concat([pd.Series(range(1,2001),name = \"Test_image_index\"),result],axis = 1)\n",
    "\n",
    "\n",
    "result.to_csv(\"UnsaaShaheen.csv\",index=False)"
   ]
  },
  {
   "cell_type": "code",
   "execution_count": null,
   "metadata": {},
   "outputs": [],
   "source": []
  }
 ],
 "metadata": {
  "kernelspec": {
   "display_name": "Python 3",
   "language": "python",
   "name": "python3"
  },
  "language_info": {
   "codemirror_mode": {
    "name": "ipython",
    "version": 3
   },
   "file_extension": ".py",
   "mimetype": "text/x-python",
   "name": "python",
   "nbconvert_exporter": "python",
   "pygments_lexer": "ipython3",
   "version": "3.6.7"
  }
 },
 "nbformat": 4,
 "nbformat_minor": 2
}
